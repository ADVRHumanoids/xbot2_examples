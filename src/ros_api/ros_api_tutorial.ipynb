{
 "cells": [
  {
   "cell_type": "markdown",
   "metadata": {},
   "source": [
    "## Xbot2 ROS API\n",
    "\n",
    "The most convenient way to interact with a Xbot2 robot in joint space is probably via the ROS middleware.\n",
    "The XBot2 framework integrates with ROS via two plugins that must be included in its configuration file, \n",
    "namely:\n",
    " - `ros_io`, which handles (i) broadcasting of the robot state to ROS, (ii) plugin lifecycle management, (iii) safety and filtering\n",
    " - `ros_control` which forward any reference received on the */xbotcore/command* topic to the motors\n",
    " \n",
    "Even though it is definetely possible to \"manually\" subscribe and publish to Xbot2's topics, a less error-prone and high level abstraction is provided, as well. Python bindings to the *XbotInterface* C++ package allow to control the robot via ROS with the same API that we have seen in all our plugin examples.\n",
    "\n",
    "To start, let's import all required modules. **Remember to use Python2.7 on Ubuntu Xenial and Bionic, whereas Python3.X should be used on Focal.**"
   ]
  },
  {
   "cell_type": "code",
   "execution_count": 27,
   "metadata": {},
   "outputs": [],
   "source": [
    "from xbot_interface import xbot_interface as xbot\n",
    "from xbot_interface import config_options as opt\n",
    "from cartesian_interface.affine3 import Affine3\n",
    "\n",
    "import rospy\n",
    "import numpy as np\n",
    "\n",
    "rospy.init_node('xbot2_ros_tutorial')"
   ]
  },
  {
   "cell_type": "markdown",
   "metadata": {},
   "source": [
    "### Creating a configuration object\n",
    "Our first step is to create a configuration object, that allow the *RobotInterface* and *ModelInterface* classes to self-configure. This can be done from ROS parameters with the following function."
   ]
  },
  {
   "cell_type": "code",
   "execution_count": 39,
   "metadata": {},
   "outputs": [],
   "source": [
    "def get_xbot_cfg(is_fb):\n",
    "    \"\"\"\n",
    "    A function to construct the xbotinterface config object from ros\n",
    "    \"\"\"\n",
    "    urdf = rospy.get_param('/xbotcore/robot_description')\n",
    "    srdf = rospy.get_param('/xbotcore/robot_description_semantic')\n",
    "    \n",
    "    cfg = opt.ConfigOptions()\n",
    "    cfg.set_urdf(urdf)\n",
    "    cfg.set_srdf(srdf)\n",
    "    cfg.generate_jidmap()\n",
    "    cfg.set_bool_parameter('is_model_floating_base', is_fb)\n",
    "    cfg.set_string_parameter('model_type', 'RBDL')\n",
    "    cfg.set_string_parameter('framework', 'ROS')\n",
    "    \n",
    "    return cfg"
   ]
  },
  {
   "cell_type": "markdown",
   "metadata": {},
   "source": [
    "### Querying joint information\n",
    "We can now create a class representing our robot, i.e. the *RobotInterface* and, e.g., print the list of joint names and joint positions."
   ]
  },
  {
   "cell_type": "code",
   "execution_count": 40,
   "metadata": {},
   "outputs": [
    {
     "name": "stdout",
     "output_type": "stream",
     "text": [
      "joint1: -0.000669108179864 vs -0.000658228527755\n",
      "joint2: 1.09653973579 vs 1.06472229958\n",
      "joint3: 1.03502476215 vs 1.02368366718\n",
      "joint4: -8.23631562525e-05 vs -8.22785659693e-05\n",
      "joint5: 0.0202679000795 vs 0.0137048419565\n"
     ]
    }
   ],
   "source": [
    "cfg = get_xbot_cfg(is_fb=False)  # get config object\n",
    "robot = xbot.RobotInterface(cfg)  # create robot (note: xbot2 should be up and running)\n",
    "\n",
    "jnames = robot.getEnabledJointNames()   # get list of joint names\n",
    "jpos = robot.getJointPosition()  # get actual joint position\n",
    "jref = robot.getPositionReference()  # get actual position reference\n",
    "\n",
    "for n, q, qref in zip(jnames, jpos, jref):\n",
    "    print('{}: {} vs {}'.format(n, q, qref))"
   ]
  },
  {
   "cell_type": "markdown",
   "metadata": {},
   "source": [
    "### Querying kinematics and dynamics\n",
    "Kinematics and dynamics information is also available via the *ModelInterface* class."
   ]
  },
  {
   "cell_type": "code",
   "execution_count": 44,
   "metadata": {},
   "outputs": [
    {
     "name": "stdout",
     "output_type": "stream",
     "text": [
      "end effector pose w.r.t. world frame is:\n",
      "translation: [    0.7429, -0.0004976,    0.03149]\n",
      "rotation   : [ 0.0002587,       0.88, -0.0001793,     0.4749]\n"
     ]
    }
   ],
   "source": [
    "robot.sense()  # update robot pose\n",
    "model = robot.model()  # this model is automatically kept in sync with robot\n",
    "Tee = model.getPose('TCP')\n",
    "print('end effector pose w.r.t. world frame is:\\n{}'.format(Tee))"
   ]
  },
  {
   "cell_type": "markdown",
   "metadata": {},
   "source": [
    "### Interacting with plugins\n",
    "We can interact with each plugin lifecycle with ROS services. In particular, each plugin defines:\n",
    "  - a `switch` service that turns the plugin on or off\n",
    "  - a `state` service returning the current plugin status\n",
    "  - an `abort` service to force the plugin to stop\n",
    "  \n",
    "As an example, we will write some Python code that triggers a homing based on whether the joints are too far away from their homing position.\n",
    "\n",
    "First let us create the required service clients, then write our simple logic."
   ]
  },
  {
   "cell_type": "code",
   "execution_count": 48,
   "metadata": {},
   "outputs": [
    {
     "name": "stdout",
     "output_type": "stream",
     "text": [
      "homing not needed\n"
     ]
    }
   ],
   "source": [
    "# create ros service client\n",
    "from std_srvs.srv import *\n",
    "homing_switch = rospy.ServiceProxy('/xbotcore/homing/switch', SetBool)\n",
    "\n",
    "# get the home state from srdf\n",
    "qhome = robot.getRobotState('home')\n",
    "\n",
    "# update robot and get its current position\n",
    "robot.sense()\n",
    "q = robot.getJointPosition()\n",
    "\n",
    "# do homing if needed\n",
    "if np.linalg.norm(qhome - q) > 0.1:\n",
    "    print('homing triggered')\n",
    "    homing_switch(True)\n",
    "else:\n",
    "    print('homing not needed')\n",
    "    "
   ]
  },
  {
   "cell_type": "markdown",
   "metadata": {},
   "source": [
    "### Interacting with the robot joints\n",
    "Let's see how to send references to the robot joints. For the purpose of this example, we will send a sinusoidal trajectory to the joints, together with a computed torque feedforward.\n",
    "\n",
    "First of all, it is necessary to enable the *ros_control* plugin. Note that is has been included in the configuration file under the *ros_ctrl* name."
   ]
  },
  {
   "cell_type": "code",
   "execution_count": 54,
   "metadata": {},
   "outputs": [
    {
     "data": {
      "text/plain": [
       "success: True\n",
       "message: \"Successfully started 'ros_ctrl'\""
      ]
     },
     "execution_count": 54,
     "metadata": {},
     "output_type": "execute_result"
    }
   ],
   "source": [
    "ros_ctrl_switch = rospy.ServiceProxy('/xbotcore/ros_ctrl/switch', SetBool)\n",
    "ros_ctrl_switch(True)"
   ]
  },
  {
   "cell_type": "code",
   "execution_count": 56,
   "metadata": {},
   "outputs": [
    {
     "name": "stdout",
     "output_type": "stream",
     "text": [
      "Trajectory started!\n",
      "Trajectory ended!\n"
     ]
    }
   ],
   "source": [
    "import math\n",
    "\n",
    "# trajectory parameters\n",
    "q_range = 0.1  # sine amplitude, [rad]\n",
    "period = 2.0  # sine period\n",
    "omega = 2*math.pi/period  # sine omega\n",
    "\n",
    "# get starting position\n",
    "robot.sense()\n",
    "q0 = robot.getJointPosition()\n",
    "\n",
    "# looping utils\n",
    "time = 0.0  # current time since trj start\n",
    "dt = 0.01  # control dt (100 Hz)\n",
    "rate = rospy.Rate(1./dt) # rate object to synchronize the loop\n",
    "\n",
    "print('Trajectory started!')\n",
    "\n",
    "while time < 5*period:\n",
    "    \n",
    "    # compute trajectory point\n",
    "    q = q0*0.5*(math.cos(omega*time) + 1)\n",
    "    v = -q0*0.5*omega*math.sin(omega*time)\n",
    "    a = -q0*0.5*omega**2*math.cos(omega*time)\n",
    "    \n",
    "    # compute inverse dynamics torque\n",
    "    model.setJointPosition(q)\n",
    "    model.setJointVelocity(v)\n",
    "    model.setJointAcceleration(a)\n",
    "    model.update()\n",
    "    tau = model.computeInverseDynamics()\n",
    "    \n",
    "    # set reference to robot\n",
    "    robot.setPositionReference(q)\n",
    "    robot.setVelocityReference(v)\n",
    "    robot.setEffortReference(tau)\n",
    "    \n",
    "    # move() does the publishing to /xbotcore/command\n",
    "    robot.move()\n",
    "    \n",
    "    # sync the loop to the target frequency\n",
    "    time += dt\n",
    "    rate.sleep()\n",
    "\n",
    "print('Trajectory ended!')"
   ]
  },
  {
   "cell_type": "markdown",
   "metadata": {},
   "source": [
    "### Control modes\n",
    "By default, invoking `robot.move()` will send a **complete reference message** to the robot, i.e. containing a target position, velocity, torque, stiffness, and damping gains.\n",
    "\n",
    "This is rarely optimal. If, for instance, we only want to send position and effort to the joints, we need to modify the robot's contol mode as follows."
   ]
  },
  {
   "cell_type": "code",
   "execution_count": 50,
   "metadata": {},
   "outputs": [
    {
     "data": {
      "text/plain": [
       "True"
      ]
     },
     "execution_count": 50,
     "metadata": {},
     "output_type": "execute_result"
    }
   ],
   "source": [
    "# set a default control mode (applied to all joints)\n",
    "default_ctrl_mode = xbot.ControlMode.Position()\n",
    "robot.setControlMode(default_ctrl_mode)\n",
    "\n",
    "# override control mode for a single joint\n",
    "ctrl_mode_override = {\n",
    "    'joint1': xbot.ControlMode.Position() + xbot.ControlMode.Effort()\n",
    "}\n",
    "robot.setControlMode(ctrl_mode_override)"
   ]
  },
  {
   "cell_type": "markdown",
   "metadata": {},
   "source": [
    "Repeating the execution of the sinusoidal trajectory will send the torque reference only to the first joint this time."
   ]
  },
  {
   "cell_type": "code",
   "execution_count": null,
   "metadata": {},
   "outputs": [],
   "source": []
  }
 ],
 "metadata": {
  "kernelspec": {
   "display_name": "Python 2",
   "language": "python",
   "name": "python2"
  },
  "language_info": {
   "codemirror_mode": {
    "name": "ipython",
    "version": 2
   },
   "file_extension": ".py",
   "mimetype": "text/x-python",
   "name": "python",
   "nbconvert_exporter": "python",
   "pygments_lexer": "ipython2",
   "version": "2.7.17"
  }
 },
 "nbformat": 4,
 "nbformat_minor": 4
}
